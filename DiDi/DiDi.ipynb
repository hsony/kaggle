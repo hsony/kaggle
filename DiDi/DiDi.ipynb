{
 "cells": [
  {
   "cell_type": "code",
   "execution_count": 1,
   "metadata": {
    "collapsed": false
   },
   "outputs": [],
   "source": [
    "import pandas as pd\n",
    "import numpy as np\n",
    "import matplotlib.pyplot as plt\n",
    "%matplotlib inline\n",
    "from sklearn.ensemble import RandomForestRegressor"
   ]
  },
  {
   "cell_type": "code",
   "execution_count": 2,
   "metadata": {
    "collapsed": false
   },
   "outputs": [],
   "source": [
    "order_data = pd.DataFrame()\n",
    "for i in range(1, 22):\n",
    "    order_data = order_data.append(pd.read_csv(\"./training_data/order_data/order_data_2016-01-%02d\" % i, header = None, delim_whitespace = True))\n",
    "cluster_map = pd.read_csv(\"./training_data/cluster_map/cluster_map\", header = None, delim_whitespace = True)"
   ]
  },
  {
   "cell_type": "code",
   "execution_count": 3,
   "metadata": {
    "collapsed": false
   },
   "outputs": [
    {
     "data": {
      "text/html": [
       "<div>\n",
       "<table border=\"1\" class=\"dataframe\">\n",
       "  <thead>\n",
       "    <tr style=\"text-align: right;\">\n",
       "      <th></th>\n",
       "      <th>0</th>\n",
       "      <th>1</th>\n",
       "      <th>2</th>\n",
       "      <th>3</th>\n",
       "      <th>4</th>\n",
       "      <th>5</th>\n",
       "      <th>6</th>\n",
       "      <th>7</th>\n",
       "    </tr>\n",
       "  </thead>\n",
       "  <tbody>\n",
       "    <tr>\n",
       "      <th>0</th>\n",
       "      <td>97ebd0c6680f7c0535dbfdead6e51b4b</td>\n",
       "      <td>dd65fa250fca2833a3a8c16d2cf0457c</td>\n",
       "      <td>ed180d7daf639d936f1aeae4f7fb482f</td>\n",
       "      <td>4725c39a5e5f4c188d382da3910b3f3f</td>\n",
       "      <td>3e12208dd0be281c92a6ab57d9a6fb32</td>\n",
       "      <td>24.0</td>\n",
       "      <td>2016-01-01</td>\n",
       "      <td>13:37:23</td>\n",
       "    </tr>\n",
       "    <tr>\n",
       "      <th>1</th>\n",
       "      <td>92c3ac9251cc9b5aab90b114a1e363be</td>\n",
       "      <td>c077e0297639edcb1df6189e8cda2c3d</td>\n",
       "      <td>191a180f0a262aff3267775c4fac8972</td>\n",
       "      <td>82cc4851f9e4faa4e54309f8bb73fd7c</td>\n",
       "      <td>b05379ac3f9b7d99370d443cfd5dcc28</td>\n",
       "      <td>2.0</td>\n",
       "      <td>2016-01-01</td>\n",
       "      <td>09:47:54</td>\n",
       "    </tr>\n",
       "    <tr>\n",
       "      <th>2</th>\n",
       "      <td>abeefc3e2aec952468e2fd42a1649640</td>\n",
       "      <td>86dbc1b68de435957c61b5a523854b69</td>\n",
       "      <td>7029e813bb3de8cc73a8615e2785070c</td>\n",
       "      <td>fff4e8465d1e12621bc361276b6217cf</td>\n",
       "      <td>fff4e8465d1e12621bc361276b6217cf</td>\n",
       "      <td>9.0</td>\n",
       "      <td>2016-01-01</td>\n",
       "      <td>18:24:02</td>\n",
       "    </tr>\n",
       "    <tr>\n",
       "      <th>3</th>\n",
       "      <td>cb31d0be64cda3cc66b46617bf49a05c</td>\n",
       "      <td>4fadfa6eeaa694742de036dddf02b0c4</td>\n",
       "      <td>21dc133ac68e4c07803d1c2f48988a83</td>\n",
       "      <td>4b7f6f4e2bf237b6cc58f57142bea5c0</td>\n",
       "      <td>4b7f6f4e2bf237b6cc58f57142bea5c0</td>\n",
       "      <td>11.0</td>\n",
       "      <td>2016-01-01</td>\n",
       "      <td>22:13:27</td>\n",
       "    </tr>\n",
       "    <tr>\n",
       "      <th>4</th>\n",
       "      <td>139d492189ae5a933122c098f63252b3</td>\n",
       "      <td>NaN</td>\n",
       "      <td>26963cc76da2d8450d8f23fc357db987</td>\n",
       "      <td>fc34648599753c9e74ab238e9a4a07ad</td>\n",
       "      <td>87285a66236346350541b8815c5fae94</td>\n",
       "      <td>4.0</td>\n",
       "      <td>2016-01-01</td>\n",
       "      <td>17:00:06</td>\n",
       "    </tr>\n",
       "    <tr>\n",
       "      <th>5</th>\n",
       "      <td>b0b59fd0fe98bf603972da2f62e6522d</td>\n",
       "      <td>NaN</td>\n",
       "      <td>970fc2d834c16362cfed666e4baad9f8</td>\n",
       "      <td>d4ec2125aff74eded207d2d915ef682f</td>\n",
       "      <td>8bb37d24db1ad665e706c2655d9c4c72</td>\n",
       "      <td>44.0</td>\n",
       "      <td>2016-01-01</td>\n",
       "      <td>06:10:34</td>\n",
       "    </tr>\n",
       "    <tr>\n",
       "      <th>6</th>\n",
       "      <td>17c1c85144ab532947c7ea724fdcc945</td>\n",
       "      <td>115ac9b23f00a2e6d8a3041e23469f41</td>\n",
       "      <td>2f206d28eb6d7daa6d058304c00782de</td>\n",
       "      <td>a5609739c6b5c2719a3752327c5e33a7</td>\n",
       "      <td>a5609739c6b5c2719a3752327c5e33a7</td>\n",
       "      <td>6.0</td>\n",
       "      <td>2016-01-01</td>\n",
       "      <td>17:34:33</td>\n",
       "    </tr>\n",
       "    <tr>\n",
       "      <th>7</th>\n",
       "      <td>d682c1c004024f8937d21cd43498d1bb</td>\n",
       "      <td>7cb7ccbc192c177b136feca274fb3d07</td>\n",
       "      <td>9cc0a783df3ea8ae3067ba2264d87fc3</td>\n",
       "      <td>74c1c25f4b283fa74a5514307b0d0278</td>\n",
       "      <td>74c1c25f4b283fa74a5514307b0d0278</td>\n",
       "      <td>3.0</td>\n",
       "      <td>2016-01-01</td>\n",
       "      <td>12:12:55</td>\n",
       "    </tr>\n",
       "    <tr>\n",
       "      <th>8</th>\n",
       "      <td>6fcae38baf2eb52e17273df41bf6fc6f</td>\n",
       "      <td>c586e492c4587c3aa15557a8eb41806d</td>\n",
       "      <td>c706cc35b05d84b224dec9d429c11de0</td>\n",
       "      <td>4725c39a5e5f4c188d382da3910b3f3f</td>\n",
       "      <td>4725c39a5e5f4c188d382da3910b3f3f</td>\n",
       "      <td>5.0</td>\n",
       "      <td>2016-01-01</td>\n",
       "      <td>14:28:07</td>\n",
       "    </tr>\n",
       "    <tr>\n",
       "      <th>9</th>\n",
       "      <td>70afc52be8a6d35137f2277a6ca88017</td>\n",
       "      <td>ea61e970ba415f946b3b35464c74f32a</td>\n",
       "      <td>cef9c611fab48a823b02d742c89207a9</td>\n",
       "      <td>87285a66236346350541b8815c5fae94</td>\n",
       "      <td>52a4e8aaa12f70020e889aed8fd5ddbc</td>\n",
       "      <td>5.0</td>\n",
       "      <td>2016-01-01</td>\n",
       "      <td>21:56:29</td>\n",
       "    </tr>\n",
       "  </tbody>\n",
       "</table>\n",
       "</div>"
      ],
      "text/plain": [
       "                                  0                                 1  \\\n",
       "0  97ebd0c6680f7c0535dbfdead6e51b4b  dd65fa250fca2833a3a8c16d2cf0457c   \n",
       "1  92c3ac9251cc9b5aab90b114a1e363be  c077e0297639edcb1df6189e8cda2c3d   \n",
       "2  abeefc3e2aec952468e2fd42a1649640  86dbc1b68de435957c61b5a523854b69   \n",
       "3  cb31d0be64cda3cc66b46617bf49a05c  4fadfa6eeaa694742de036dddf02b0c4   \n",
       "4  139d492189ae5a933122c098f63252b3                               NaN   \n",
       "5  b0b59fd0fe98bf603972da2f62e6522d                               NaN   \n",
       "6  17c1c85144ab532947c7ea724fdcc945  115ac9b23f00a2e6d8a3041e23469f41   \n",
       "7  d682c1c004024f8937d21cd43498d1bb  7cb7ccbc192c177b136feca274fb3d07   \n",
       "8  6fcae38baf2eb52e17273df41bf6fc6f  c586e492c4587c3aa15557a8eb41806d   \n",
       "9  70afc52be8a6d35137f2277a6ca88017  ea61e970ba415f946b3b35464c74f32a   \n",
       "\n",
       "                                  2                                 3  \\\n",
       "0  ed180d7daf639d936f1aeae4f7fb482f  4725c39a5e5f4c188d382da3910b3f3f   \n",
       "1  191a180f0a262aff3267775c4fac8972  82cc4851f9e4faa4e54309f8bb73fd7c   \n",
       "2  7029e813bb3de8cc73a8615e2785070c  fff4e8465d1e12621bc361276b6217cf   \n",
       "3  21dc133ac68e4c07803d1c2f48988a83  4b7f6f4e2bf237b6cc58f57142bea5c0   \n",
       "4  26963cc76da2d8450d8f23fc357db987  fc34648599753c9e74ab238e9a4a07ad   \n",
       "5  970fc2d834c16362cfed666e4baad9f8  d4ec2125aff74eded207d2d915ef682f   \n",
       "6  2f206d28eb6d7daa6d058304c00782de  a5609739c6b5c2719a3752327c5e33a7   \n",
       "7  9cc0a783df3ea8ae3067ba2264d87fc3  74c1c25f4b283fa74a5514307b0d0278   \n",
       "8  c706cc35b05d84b224dec9d429c11de0  4725c39a5e5f4c188d382da3910b3f3f   \n",
       "9  cef9c611fab48a823b02d742c89207a9  87285a66236346350541b8815c5fae94   \n",
       "\n",
       "                                  4     5           6         7  \n",
       "0  3e12208dd0be281c92a6ab57d9a6fb32  24.0  2016-01-01  13:37:23  \n",
       "1  b05379ac3f9b7d99370d443cfd5dcc28   2.0  2016-01-01  09:47:54  \n",
       "2  fff4e8465d1e12621bc361276b6217cf   9.0  2016-01-01  18:24:02  \n",
       "3  4b7f6f4e2bf237b6cc58f57142bea5c0  11.0  2016-01-01  22:13:27  \n",
       "4  87285a66236346350541b8815c5fae94   4.0  2016-01-01  17:00:06  \n",
       "5  8bb37d24db1ad665e706c2655d9c4c72  44.0  2016-01-01  06:10:34  \n",
       "6  a5609739c6b5c2719a3752327c5e33a7   6.0  2016-01-01  17:34:33  \n",
       "7  74c1c25f4b283fa74a5514307b0d0278   3.0  2016-01-01  12:12:55  \n",
       "8  4725c39a5e5f4c188d382da3910b3f3f   5.0  2016-01-01  14:28:07  \n",
       "9  52a4e8aaa12f70020e889aed8fd5ddbc   5.0  2016-01-01  21:56:29  "
      ]
     },
     "execution_count": 3,
     "metadata": {},
     "output_type": "execute_result"
    }
   ],
   "source": [
    "order_data.head(10)"
   ]
  },
  {
   "cell_type": "code",
   "execution_count": 4,
   "metadata": {
    "collapsed": false
   },
   "outputs": [],
   "source": [
    "order_data[\"time_slice\"] = order_data[7].apply(lambda x: (int(x.split(':')[0]) * 60 * 60 + int(x.split(':')[1]) * 60 + int(x.split(':')[2])) / 600)"
   ]
  },
  {
   "cell_type": "code",
   "execution_count": 5,
   "metadata": {
    "collapsed": false
   },
   "outputs": [
    {
     "data": {
      "text/plain": [
       "143"
      ]
     },
     "execution_count": 5,
     "metadata": {},
     "output_type": "execute_result"
    }
   ],
   "source": [
    "order_data['time_slice'].max()"
   ]
  },
  {
   "cell_type": "code",
   "execution_count": 6,
   "metadata": {
    "collapsed": false
   },
   "outputs": [],
   "source": [
    "region_mapping = {}\n",
    "for item in cluster_map.values:\n",
    "    region_mapping[item[0]] = item[1]"
   ]
  },
  {
   "cell_type": "code",
   "execution_count": 7,
   "metadata": {
    "collapsed": false
   },
   "outputs": [],
   "source": [
    "order_data[\"region_id\"] = order_data[3].apply(lambda x: int(region_mapping[x]))"
   ]
  },
  {
   "cell_type": "code",
   "execution_count": 8,
   "metadata": {
    "collapsed": true
   },
   "outputs": [],
   "source": [
    "order_data[\"date\"] = order_data[6].apply(lambda x: int(x.split('-')[2]) - 1)"
   ]
  },
  {
   "cell_type": "code",
   "execution_count": 9,
   "metadata": {
    "collapsed": false
   },
   "outputs": [
    {
     "name": "stdout",
     "output_type": "stream",
     "text": [
      "0\n",
      "143\n",
      "1\n",
      "66\n",
      "0\n",
      "20\n"
     ]
    }
   ],
   "source": [
    "print order_data['time_slice'].min()\n",
    "print order_data['time_slice'].max()\n",
    "print order_data['region_id'].min()\n",
    "print order_data['region_id'].max()\n",
    "print order_data['date'].min()\n",
    "print order_data['date'].max()"
   ]
  },
  {
   "cell_type": "code",
   "execution_count": 10,
   "metadata": {
    "collapsed": true
   },
   "outputs": [],
   "source": [
    "demand_count = {}\n",
    "supply_count = {}\n",
    "for i in range(0, 21):\n",
    "    for j in range(0, 144):\n",
    "        demand_count[i * 144 + j] = {}\n",
    "        supply_count[i * 144 + j] = {}\n",
    "        for z in range(1, 67):\n",
    "            demand_count[i * 144 + j][z] = 0\n",
    "            supply_count[i * 144 + j][z] = 0"
   ]
  },
  {
   "cell_type": "code",
   "execution_count": 11,
   "metadata": {
    "collapsed": false
   },
   "outputs": [
    {
     "data": {
      "text/plain": [
       "Index([0, 1, 2, 3, 4, 5, 6, 7, u'time_slice', u'region_id', u'date'], dtype='object')"
      ]
     },
     "execution_count": 11,
     "metadata": {},
     "output_type": "execute_result"
    }
   ],
   "source": [
    "order_data.columns"
   ]
  },
  {
   "cell_type": "code",
   "execution_count": 12,
   "metadata": {
    "collapsed": false
   },
   "outputs": [],
   "source": [
    "for item in order_data.values:\n",
    "    demand_count[item[10] * 144 + item[8]][item[9]] += 1\n",
    "    if pd.isnull(item[1]) == False:\n",
    "        supply_count[item[10] * 144 + item[8]][item[9]] += 1"
   ]
  },
  {
   "cell_type": "code",
   "execution_count": 21,
   "metadata": {
    "collapsed": false
   },
   "outputs": [],
   "source": [
    "data = np.array([[0, 0, 0, 0, 0, 0, 0]])"
   ]
  },
  {
   "cell_type": "code",
   "execution_count": 22,
   "metadata": {
    "collapsed": false
   },
   "outputs": [],
   "source": [
    "for i in range(1, 67):\n",
    "    for j in range(3, 144 * 21):\n",
    "        tsi = j % 144\n",
    "        h = j / 144 + 1\n",
    "        if h == 1 or h == 2 or h == 3 or h == 9 or h == 10 or h == 16 or h == 17:\n",
    "            h = 1;\n",
    "        else:\n",
    "            h = 0;\n",
    "        data = np.vstack([data, [h, i, tsi, abs(demand_count[j - 1][i] - supply_count[j - 1][i]), abs(demand_count[j - 2][i] - supply_count[j - 2][i]), abs(demand_count[j - 3][i] - supply_count[j - 3][i]), abs(demand_count[j][i] - supply_count[j][i])]])"
   ]
  },
  {
   "cell_type": "code",
   "execution_count": 23,
   "metadata": {
    "collapsed": false
   },
   "outputs": [],
   "source": [
    "training_data = pd.DataFrame(data[1:], columns = [\"is_holiday\", \"region_id\", \"time_slice_id\", \"gap_1\", \"gap_2\", \"gap_3\", \"gap\"])"
   ]
  },
  {
   "cell_type": "code",
   "execution_count": 26,
   "metadata": {
    "collapsed": false
   },
   "outputs": [
    {
     "data": {
      "text/plain": [
       "array([1, 0], dtype=int64)"
      ]
     },
     "execution_count": 26,
     "metadata": {},
     "output_type": "execute_result"
    }
   ],
   "source": [
    "training_data[\"is_holiday\"].unique()"
   ]
  },
  {
   "cell_type": "code",
   "execution_count": 27,
   "metadata": {
    "collapsed": false
   },
   "outputs": [],
   "source": [
    "target = training_data[\"gap\"]\n",
    "train = training_data.drop(\"gap\", 1)"
   ]
  },
  {
   "cell_type": "code",
   "execution_count": 28,
   "metadata": {
    "collapsed": false
   },
   "outputs": [
    {
     "name": "stdout",
     "output_type": "stream",
     "text": [
      "Index([u'is_holiday', u'region_id', u'time_slice_id', u'gap_1', u'gap_2',\n",
      "       u'gap_3'],\n",
      "      dtype='object')\n"
     ]
    }
   ],
   "source": [
    "print train.columns"
   ]
  },
  {
   "cell_type": "code",
   "execution_count": 29,
   "metadata": {
    "collapsed": true
   },
   "outputs": [],
   "source": [
    "from sklearn.cross_validation import KFold\n",
    "def loss(act, pred):\n",
    "    act = act[act > 0]\n",
    "    pred = pred[act > 0]\n",
    "    l = abs(act - pred) / act\n",
    "    return sum(l) / len(l)"
   ]
  },
  {
   "cell_type": "code",
   "execution_count": 31,
   "metadata": {
    "collapsed": false
   },
   "outputs": [
    {
     "name": "stderr",
     "output_type": "stream",
     "text": [
      "C:\\Users\\shuan\\AppData\\Local\\Continuum\\Miniconda2\\lib\\site-packages\\ipykernel\\__main__.py:4: FutureWarning: in the future, boolean array-likes will be handled as a boolean array index\n"
     ]
    },
    {
     "name": "stdout",
     "output_type": "stream",
     "text": [
      "10 None 11.7477825588\n",
      "10 20 12.6298599784\n",
      "17 None 2.09070090321\n",
      "17 20 11.8252659614\n"
     ]
    }
   ],
   "source": [
    "best_n = 0\n",
    "best_d = 0\n",
    "best_score = 0\n",
    "for n in (10, 17):\n",
    "    for d in (None, 20):\n",
    "        rfc = RandomForestRegressor(n_estimators=n, max_depth=d, n_jobs=-1)\n",
    "        rfc_score = 0;\n",
    "        for train_k, test_k in KFold(len(train), n_folds=10, shuffle=True):\n",
    "            rfc.fit(train.iloc[train_k], target.iloc[train_k])\n",
    "            pred = rfc.predict(train.iloc[test_k])\n",
    "            #rfc_score += rfc.score(train.iloc[test_k], target.iloc[test_k]) / 10.0\n",
    "            rfc_score += loss(target.iloc[test_k], pred) / 10.0\n",
    "        print(\"%s %s %s\" %(n, d, rfc_score))\n",
    "        if (rfc_score > best_score):\n",
    "            best_score = rfc_score\n",
    "            best_n = n\n",
    "            best_d = d"
   ]
  },
  {
   "cell_type": "code",
   "execution_count": 108,
   "metadata": {
    "collapsed": false
   },
   "outputs": [
    {
     "name": "stdout",
     "output_type": "stream",
     "text": [
      "20 17 0.807406834598\n"
     ]
    }
   ],
   "source": [
    "print best_d, best_n, best_score"
   ]
  },
  {
   "cell_type": "code",
   "execution_count": 109,
   "metadata": {
    "collapsed": false
   },
   "outputs": [
    {
     "data": {
      "text/plain": [
       "RandomForestRegressor(bootstrap=True, criterion='mse', max_depth=18,\n",
       "           max_features='auto', max_leaf_nodes=None, min_samples_leaf=1,\n",
       "           min_samples_split=2, min_weight_fraction_leaf=0.0,\n",
       "           n_estimators=17, n_jobs=1, oob_score=False, random_state=None,\n",
       "           verbose=0, warm_start=False)"
      ]
     },
     "execution_count": 109,
     "metadata": {},
     "output_type": "execute_result"
    }
   ],
   "source": [
    "rfc = RandomForestRegressor(n_estimators=17, max_depth=18)\n",
    "rfc.fit(train, target)"
   ]
  },
  {
   "cell_type": "code",
   "execution_count": 110,
   "metadata": {
    "collapsed": false
   },
   "outputs": [
    {
     "data": {
      "text/plain": [
       "0.96666478812545187"
      ]
     },
     "execution_count": 110,
     "metadata": {},
     "output_type": "execute_result"
    }
   ],
   "source": [
    "rfc.score(train, target)"
   ]
  },
  {
   "cell_type": "code",
   "execution_count": 111,
   "metadata": {
    "collapsed": false
   },
   "outputs": [],
   "source": [
    "test = pd.read_csv(\"test.csv\", header=None)"
   ]
  },
  {
   "cell_type": "code",
   "execution_count": 112,
   "metadata": {
    "collapsed": false
   },
   "outputs": [],
   "source": [
    "result = test.copy()"
   ]
  },
  {
   "cell_type": "code",
   "execution_count": 113,
   "metadata": {
    "collapsed": false
   },
   "outputs": [
    {
     "data": {
      "text/html": [
       "<div>\n",
       "<table border=\"1\" class=\"dataframe\">\n",
       "  <thead>\n",
       "    <tr style=\"text-align: right;\">\n",
       "      <th></th>\n",
       "      <th>0</th>\n",
       "      <th>1</th>\n",
       "      <th>2</th>\n",
       "    </tr>\n",
       "  </thead>\n",
       "  <tbody>\n",
       "    <tr>\n",
       "      <th>0</th>\n",
       "      <td>1</td>\n",
       "      <td>2016-01-22-46</td>\n",
       "      <td>0</td>\n",
       "    </tr>\n",
       "    <tr>\n",
       "      <th>1</th>\n",
       "      <td>2</td>\n",
       "      <td>2016-01-22-46</td>\n",
       "      <td>0</td>\n",
       "    </tr>\n",
       "    <tr>\n",
       "      <th>2</th>\n",
       "      <td>3</td>\n",
       "      <td>2016-01-22-46</td>\n",
       "      <td>0</td>\n",
       "    </tr>\n",
       "    <tr>\n",
       "      <th>3</th>\n",
       "      <td>4</td>\n",
       "      <td>2016-01-22-46</td>\n",
       "      <td>0</td>\n",
       "    </tr>\n",
       "    <tr>\n",
       "      <th>4</th>\n",
       "      <td>5</td>\n",
       "      <td>2016-01-22-46</td>\n",
       "      <td>0</td>\n",
       "    </tr>\n",
       "  </tbody>\n",
       "</table>\n",
       "</div>"
      ],
      "text/plain": [
       "   0              1  2\n",
       "0  1  2016-01-22-46  0\n",
       "1  2  2016-01-22-46  0\n",
       "2  3  2016-01-22-46  0\n",
       "3  4  2016-01-22-46  0\n",
       "4  5  2016-01-22-46  0"
      ]
     },
     "execution_count": 113,
     "metadata": {},
     "output_type": "execute_result"
    }
   ],
   "source": [
    "result.head()"
   ]
  },
  {
   "cell_type": "code",
   "execution_count": 114,
   "metadata": {
    "collapsed": true
   },
   "outputs": [],
   "source": [
    "test_order_data = pd.DataFrame()\n",
    "for i in [22, 24, 26, 28, 30]:\n",
    "    test_order_data = test_order_data.append(pd.read_csv(\"./test_set_1/order_data/order_data_2016-01-%02d_test\" % i, header=None, delim_whitespace=True))"
   ]
  },
  {
   "cell_type": "code",
   "execution_count": 115,
   "metadata": {
    "collapsed": false
   },
   "outputs": [
    {
     "data": {
      "text/html": [
       "<div>\n",
       "<table border=\"1\" class=\"dataframe\">\n",
       "  <thead>\n",
       "    <tr style=\"text-align: right;\">\n",
       "      <th></th>\n",
       "      <th>0</th>\n",
       "      <th>1</th>\n",
       "      <th>2</th>\n",
       "      <th>3</th>\n",
       "      <th>4</th>\n",
       "      <th>5</th>\n",
       "      <th>6</th>\n",
       "      <th>7</th>\n",
       "    </tr>\n",
       "  </thead>\n",
       "  <tbody>\n",
       "    <tr>\n",
       "      <th>0</th>\n",
       "      <td>e37f842c2a37de68e16466a3c56b916b</td>\n",
       "      <td>NaN</td>\n",
       "      <td>5903295e07afb893e1a0f7073965515d</td>\n",
       "      <td>b05379ac3f9b7d99370d443cfd5dcc28</td>\n",
       "      <td>82cc4851f9e4faa4e54309f8bb73fd7c</td>\n",
       "      <td>7.0</td>\n",
       "      <td>2016-01-22</td>\n",
       "      <td>17:19:43</td>\n",
       "    </tr>\n",
       "    <tr>\n",
       "      <th>1</th>\n",
       "      <td>62588e55ff8892ba38a0bbe5678be272</td>\n",
       "      <td>53919c82b12bd39b12d77d4d8db1dda1</td>\n",
       "      <td>5903295e07afb893e1a0f7073965515d</td>\n",
       "      <td>b05379ac3f9b7d99370d443cfd5dcc28</td>\n",
       "      <td>82cc4851f9e4faa4e54309f8bb73fd7c</td>\n",
       "      <td>12.0</td>\n",
       "      <td>2016-01-22</td>\n",
       "      <td>17:19:43</td>\n",
       "    </tr>\n",
       "    <tr>\n",
       "      <th>2</th>\n",
       "      <td>693194e4d57cdd500e793c0c1e4f7a93</td>\n",
       "      <td>19f5ba02d33855688b727e39c98b2939</td>\n",
       "      <td>dbea2d56b9fcacf8b18c40a4f34fbbf2</td>\n",
       "      <td>62afaf3288e236b389af9cfdc5206415</td>\n",
       "      <td>62afaf3288e236b389af9cfdc5206415</td>\n",
       "      <td>18.0</td>\n",
       "      <td>2016-01-22</td>\n",
       "      <td>11:00:05</td>\n",
       "    </tr>\n",
       "    <tr>\n",
       "      <th>3</th>\n",
       "      <td>3a0c651d2558d9083a66fc179e3ba81c</td>\n",
       "      <td>NaN</td>\n",
       "      <td>4b9957e8fb4d8cf981560e2a512aa598</td>\n",
       "      <td>d4ec2125aff74eded207d2d915ef682f</td>\n",
       "      <td>d1ab2cc538d518758a1a82b1787592d4</td>\n",
       "      <td>36.0</td>\n",
       "      <td>2016-01-22</td>\n",
       "      <td>17:00:42</td>\n",
       "    </tr>\n",
       "    <tr>\n",
       "      <th>4</th>\n",
       "      <td>68b7cec210c7f875b79ce32dab7195ea</td>\n",
       "      <td>NaN</td>\n",
       "      <td>4b9957e8fb4d8cf981560e2a512aa598</td>\n",
       "      <td>d4ec2125aff74eded207d2d915ef682f</td>\n",
       "      <td>d1ab2cc538d518758a1a82b1787592d4</td>\n",
       "      <td>36.0</td>\n",
       "      <td>2016-01-22</td>\n",
       "      <td>17:00:42</td>\n",
       "    </tr>\n",
       "  </tbody>\n",
       "</table>\n",
       "</div>"
      ],
      "text/plain": [
       "                                  0                                 1  \\\n",
       "0  e37f842c2a37de68e16466a3c56b916b                               NaN   \n",
       "1  62588e55ff8892ba38a0bbe5678be272  53919c82b12bd39b12d77d4d8db1dda1   \n",
       "2  693194e4d57cdd500e793c0c1e4f7a93  19f5ba02d33855688b727e39c98b2939   \n",
       "3  3a0c651d2558d9083a66fc179e3ba81c                               NaN   \n",
       "4  68b7cec210c7f875b79ce32dab7195ea                               NaN   \n",
       "\n",
       "                                  2                                 3  \\\n",
       "0  5903295e07afb893e1a0f7073965515d  b05379ac3f9b7d99370d443cfd5dcc28   \n",
       "1  5903295e07afb893e1a0f7073965515d  b05379ac3f9b7d99370d443cfd5dcc28   \n",
       "2  dbea2d56b9fcacf8b18c40a4f34fbbf2  62afaf3288e236b389af9cfdc5206415   \n",
       "3  4b9957e8fb4d8cf981560e2a512aa598  d4ec2125aff74eded207d2d915ef682f   \n",
       "4  4b9957e8fb4d8cf981560e2a512aa598  d4ec2125aff74eded207d2d915ef682f   \n",
       "\n",
       "                                  4     5           6         7  \n",
       "0  82cc4851f9e4faa4e54309f8bb73fd7c   7.0  2016-01-22  17:19:43  \n",
       "1  82cc4851f9e4faa4e54309f8bb73fd7c  12.0  2016-01-22  17:19:43  \n",
       "2  62afaf3288e236b389af9cfdc5206415  18.0  2016-01-22  11:00:05  \n",
       "3  d1ab2cc538d518758a1a82b1787592d4  36.0  2016-01-22  17:00:42  \n",
       "4  d1ab2cc538d518758a1a82b1787592d4  36.0  2016-01-22  17:00:42  "
      ]
     },
     "execution_count": 115,
     "metadata": {},
     "output_type": "execute_result"
    }
   ],
   "source": [
    "test_order_data.head()"
   ]
  },
  {
   "cell_type": "code",
   "execution_count": 116,
   "metadata": {
    "collapsed": true
   },
   "outputs": [],
   "source": [
    "test_order_data[\"time_slice\"] = test_order_data[7].apply(lambda x: (int(x.split(':')[0]) * 60 * 60 + int(x.split(':')[1]) * 60 + int(x.split(':')[2])) / 600)"
   ]
  },
  {
   "cell_type": "code",
   "execution_count": 117,
   "metadata": {
    "collapsed": false
   },
   "outputs": [],
   "source": [
    "test_order_data[\"region_id\"] = test_order_data[3].apply(lambda x: int(region_mapping[x]))"
   ]
  },
  {
   "cell_type": "code",
   "execution_count": 118,
   "metadata": {
    "collapsed": false
   },
   "outputs": [],
   "source": [
    "test_order_data[\"date\"] = test_order_data[6].apply(lambda x: (int(x.split('-')[2]) - 22) / 2)"
   ]
  },
  {
   "cell_type": "code",
   "execution_count": 119,
   "metadata": {
    "collapsed": false
   },
   "outputs": [
    {
     "data": {
      "text/plain": [
       "array([103,  66, 102, 126, 104,  55, 139, 116,  44, 127, 138,  56,  92,\n",
       "        80, 115,  43, 128, 114,  68,  67,  42,  91,  54,  90,  78, 140,  79])"
      ]
     },
     "execution_count": 119,
     "metadata": {},
     "output_type": "execute_result"
    }
   ],
   "source": [
    "test_order_data[\"time_slice\"].unique()"
   ]
  },
  {
   "cell_type": "code",
   "execution_count": 120,
   "metadata": {
    "collapsed": false
   },
   "outputs": [],
   "source": [
    "test_demand = {}\n",
    "test_supply = {}\n",
    "for i in range(0, 5):\n",
    "    for j in range(0, 144):\n",
    "        test_demand[i * 144 + j] = {}\n",
    "        test_supply[i * 144 + j] = {}\n",
    "        for z in range(1, 67):\n",
    "            test_demand[i * 144 + j][z] = 0\n",
    "            test_supply[i * 144 + j][z] = 0"
   ]
  },
  {
   "cell_type": "code",
   "execution_count": 121,
   "metadata": {
    "collapsed": false
   },
   "outputs": [],
   "source": [
    "for item in test_order_data.values:\n",
    "    test_demand[item[10] * 144 + item[8]][item[9]] += 1\n",
    "    if pd.isnull(item[1]) == False:\n",
    "        test_supply[item[10] * 144 + item[8]][item[9]] += 1"
   ]
  },
  {
   "cell_type": "code",
   "execution_count": 122,
   "metadata": {
    "collapsed": false
   },
   "outputs": [],
   "source": [
    "result[1] = result[1].apply(lambda x : (int(x.split('-')[2]) - 22) / 2 * 144 + int(x.split('-')[3]))"
   ]
  },
  {
   "cell_type": "code",
   "execution_count": 123,
   "metadata": {
    "collapsed": false
   },
   "outputs": [
    {
     "data": {
      "text/plain": [
       "array([ 46,  58,  70,  82,  94, 106, 118, 130, 142, 202, 214, 226, 238,\n",
       "       250, 262, 274, 286, 334, 346, 358, 370, 382, 394, 406, 418, 430,\n",
       "       490, 502, 514, 526, 538, 550, 562, 574, 622, 634, 646, 658, 670,\n",
       "       682, 694, 706, 718])"
      ]
     },
     "execution_count": 123,
     "metadata": {},
     "output_type": "execute_result"
    }
   ],
   "source": [
    "result[1].unique()"
   ]
  },
  {
   "cell_type": "code",
   "execution_count": 124,
   "metadata": {
    "collapsed": false
   },
   "outputs": [],
   "source": [
    "test_data = np.array([[0, 0, 0, 0, 0]])"
   ]
  },
  {
   "cell_type": "code",
   "execution_count": 125,
   "metadata": {
    "collapsed": false
   },
   "outputs": [],
   "source": [
    "for item in result.values:\n",
    "    test_data = np.vstack([test_data, [item[0], item[1] % 144, abs(test_demand[item[1] - 2][item[0]] - test_supply[item[1] - 2][item[0]]), abs(test_demand[item[1] - 3][item[0]] - test_supply[item[1] - 3][item[0]]), abs(test_demand[item[1] - 4][item[0]] - test_supply[item[1] - 4][item[0]])]])"
   ]
  },
  {
   "cell_type": "code",
   "execution_count": 126,
   "metadata": {
    "collapsed": false
   },
   "outputs": [
    {
     "data": {
      "text/plain": [
       "(2839, 5)"
      ]
     },
     "execution_count": 126,
     "metadata": {},
     "output_type": "execute_result"
    }
   ],
   "source": [
    "test_data.shape"
   ]
  },
  {
   "cell_type": "code",
   "execution_count": 127,
   "metadata": {
    "collapsed": true
   },
   "outputs": [],
   "source": [
    "test_data_frame = pd.DataFrame(test_data[1:], columns = [\"region_id\", \"time_slice_id\", \"gap_1\", \"gap_2\", \"gap_3\"])"
   ]
  },
  {
   "cell_type": "code",
   "execution_count": 128,
   "metadata": {
    "collapsed": false
   },
   "outputs": [
    {
     "data": {
      "text/plain": [
       "array([  1,   2,   0,   8,  46,  17,   7,  11,  15,   3,   9,   5,  96,\n",
       "        47, 198,   4,  16, 132, 123,  37, 110, 389,  32, 197,   6,  14,\n",
       "        21,  27,  50,  61,  13,  33,  19, 129,  28,  68,  77,  20, 116,\n",
       "        10,  94,  70,  40,  12,  57,  43, 391, 227,  55,  34, 130,  23,\n",
       "       124, 230, 608,  58,  38, 111,  18,  71,  85, 255,  22, 150, 109,\n",
       "       127, 619,  42,  41, 245,  81,  76, 102,  64,  83, 141, 155,  24,\n",
       "        36,  30, 140,  31,  88, 661, 184,  39,  86,  44, 412,  62, 238,\n",
       "       131, 103, 418, 208,  26,  95, 219,  60,  49,  51,  87, 108, 164,\n",
       "       216,  63,  67,  99, 153, 169,  52, 182, 405, 310, 119,  59, 101,\n",
       "       490, 924,  73,  25,  29,  97, 167, 202,  80, 962, 280,  35, 263,\n",
       "       125,  72, 171,  56,  66,  65, 137, 183, 106, 368, 236, 113, 210,\n",
       "       374, 823, 112, 204, 135, 159, 365, 207, 187,  69,  45, 158, 120,\n",
       "       267, 411, 222,  78, 880, 265])"
      ]
     },
     "execution_count": 128,
     "metadata": {},
     "output_type": "execute_result"
    }
   ],
   "source": [
    "test_data_frame['gap_2'].unique()"
   ]
  },
  {
   "cell_type": "code",
   "execution_count": 129,
   "metadata": {
    "collapsed": false
   },
   "outputs": [
    {
     "data": {
      "text/plain": [
       "array([   4,    1,    0,    2,    3,   14,    5,   11,    6,   79,   20,\n",
       "        154,    8,    9,    7,   74,   77,   29,   58,   21,  242,  139,\n",
       "         10,   17,   13,   48,   57,   15,   18,   16,   44,  141,   22,\n",
       "         41,  131,   28,   12,  164,  107,   24,   56,   19,   51,  129,\n",
       "        725,  417,   54,   31,  160,   52,  144,  477, 1164,   62,   37,\n",
       "         26,  111,   27,  126,  245,   33,   32,  161,  176,   25,  187,\n",
       "        624,   34,  282,   36,  128,  133,  149,   43,   90,  660,   23,\n",
       "         30,  104,   53,  177,  153,  100,  115,  158,   49,   39,   35,\n",
       "         50,   93,   59,  159,   80,   63,  120,   71,  116,  182,  289,\n",
       "        605,  202,   60,   40,   91,  583,  933,  113,   42,  865,   70,\n",
       "        252,   68,  194,   92,   55,  134,  169,  124,  132,   38,   98,\n",
       "         76,  211,   82,   46,  135,  457,  991,   83,  130,   96,  240,\n",
       "        201,  228,  121,  662,  207,   67,   69,  119,  106,   84,  276,\n",
       "        213,   89,   64,  190,  125,   81,  181,  278,   45,  542,  200,\n",
       "        657,  231])"
      ]
     },
     "execution_count": 129,
     "metadata": {},
     "output_type": "execute_result"
    }
   ],
   "source": [
    "test_data_frame[\"gap_3\"].unique()"
   ]
  },
  {
   "cell_type": "code",
   "execution_count": 130,
   "metadata": {
    "collapsed": false
   },
   "outputs": [],
   "source": [
    "test[2] = rfc.predict(test_data_frame)"
   ]
  },
  {
   "cell_type": "code",
   "execution_count": 131,
   "metadata": {
    "collapsed": false
   },
   "outputs": [],
   "source": [
    "test.to_csv(\"predict_submission3.csv\", index=False, header=None)"
   ]
  },
  {
   "cell_type": "code",
   "execution_count": null,
   "metadata": {
    "collapsed": true
   },
   "outputs": [],
   "source": []
  }
 ],
 "metadata": {
  "kernelspec": {
   "display_name": "Python 2",
   "language": "python",
   "name": "python2"
  },
  "language_info": {
   "codemirror_mode": {
    "name": "ipython",
    "version": 2
   },
   "file_extension": ".py",
   "mimetype": "text/x-python",
   "name": "python",
   "nbconvert_exporter": "python",
   "pygments_lexer": "ipython2",
   "version": "2.7.11"
  }
 },
 "nbformat": 4,
 "nbformat_minor": 0
}
