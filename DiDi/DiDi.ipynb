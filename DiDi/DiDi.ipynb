{
 "cells": [
  {
   "cell_type": "code",
   "execution_count": 2,
   "metadata": {
    "collapsed": false
   },
   "outputs": [],
   "source": [
    "import pandas as pd\n",
    "import numpy as np\n",
    "import matplotlib.pyplot as plt\n",
    "%matplotlib inline\n",
    "from sklearn.ensemble import RandomForestClassifier"
   ]
  },
  {
   "cell_type": "code",
   "execution_count": 3,
   "metadata": {
    "collapsed": true
   },
   "outputs": [],
   "source": [
    "order_data = pd.read_csv(\"./training_data/order_data/order_data_2016-01-01\", header=None, delim_whitespace=True)\n",
    "for i in range(2, 22):\n",
    "    order_data = order_data.append(pd.read_csv(\"./training_data/order_data/order_data_2016-01-%02d\" % i, header=None, delim_whitespace=True))\n",
    "cluster_map = pd.read_csv(\"./training_data/cluster_map/cluster_map\", header=None, delim_whitespace=True)"
   ]
  },
  {
   "cell_type": "code",
   "execution_count": 4,
   "metadata": {
    "collapsed": false
   },
   "outputs": [
    {
     "data": {
      "text/plain": [
       "<bound method DataFrame.count of                                        0                                 1  \\\n",
       "0       97ebd0c6680f7c0535dbfdead6e51b4b  dd65fa250fca2833a3a8c16d2cf0457c   \n",
       "1       92c3ac9251cc9b5aab90b114a1e363be  c077e0297639edcb1df6189e8cda2c3d   \n",
       "2       abeefc3e2aec952468e2fd42a1649640  86dbc1b68de435957c61b5a523854b69   \n",
       "3       cb31d0be64cda3cc66b46617bf49a05c  4fadfa6eeaa694742de036dddf02b0c4   \n",
       "4       139d492189ae5a933122c098f63252b3                               NaN   \n",
       "5       b0b59fd0fe98bf603972da2f62e6522d                               NaN   \n",
       "6       17c1c85144ab532947c7ea724fdcc945  115ac9b23f00a2e6d8a3041e23469f41   \n",
       "7       d682c1c004024f8937d21cd43498d1bb  7cb7ccbc192c177b136feca274fb3d07   \n",
       "8       6fcae38baf2eb52e17273df41bf6fc6f  c586e492c4587c3aa15557a8eb41806d   \n",
       "9       70afc52be8a6d35137f2277a6ca88017  ea61e970ba415f946b3b35464c74f32a   \n",
       "10      29251671fcc9d9078b760ce3f6f7994b                               NaN   \n",
       "11      ef10162b38fadcd75a5751bebe450f13                               NaN   \n",
       "12      23d8b4bd3443c32d5c08821943b9e779  adabcd23118a35be7cc03c8f60d73e2e   \n",
       "13      1b3b4b633578f88325973e084450af6f  7c630c98ba6679b30014807acc856d28   \n",
       "14      367da7c50e897ef8c11e5f103ca857b8                               NaN   \n",
       "15      1ec11c9499014c583995adfc1198da8d  bdabc7577982eb3f2e6806855a087430   \n",
       "16      180470cf2f166e7251daaf8502fee301  0c9f1b5f77ace5984f6362ee23396fcb   \n",
       "17      c9a59b617813c106ea7c8809f5127811  edf08148651dbc5aa3b134cce0471c92   \n",
       "18      d0341ac9950c029e2ef6212628a94900                               NaN   \n",
       "19      bf9fcd57aa98208c11de945513e26cce  b29185649bd8d9c0fc04e44828b2a589   \n",
       "20      9a13aebfdf99847fd502815271e45a01  be681893fd4ced097c0f50848d6dc013   \n",
       "21      0dd9ca15cbc2168e07ef61df4f9b6dda                               NaN   \n",
       "22      85bcc0e17b9a54454625a4ca1082f412                               NaN   \n",
       "23      7601a5eaee3051c27c5693e41b1b7b37                               NaN   \n",
       "24      f8d995b21014347594889d6b063a1b4e  014bdbc2de87e8f7d8f437fd396039ce   \n",
       "25      fcb13796bb32ecebaf382cc2818dfcaa  2a5fe54cbbcfddddfbbde8ff2501a29e   \n",
       "26      281cd7ee7eec420431b925a9c01710e6  cf0158eaacea11ee68bc8690bf100786   \n",
       "27      c6db8f1bc662716faa61b8fa8ecba169  71f768035905f7c813a9c140800aeca7   \n",
       "28      cc28842bddd5764344d453b3849cbdd9                               NaN   \n",
       "29      d34c5f6b9e164a3d9df927cac6f8f05b                               NaN   \n",
       "...                                  ...                               ...   \n",
       "474310  ab13420cac44adf69a6847600eb87741  07e40a510d9f5b4194f5d220a8d1e8b7   \n",
       "474311  f8fb82feb0a2c8fd4a6eb53235470b9f  359eece3e2b39d44b3c456f2184505c1   \n",
       "474312  8eca677b05c4971c807670beb2ca7d5b  a09f9f97641375f15aced3613a027da5   \n",
       "474313  f2a4b5e115d6c491ce9cf156b85eccf2  eb2221a3782028a67a669c0dd4561cc2   \n",
       "474314  692f7875798d53911ed12bf7204e898d  7792449e134b6b6008c89ceb7df337a3   \n",
       "474315  fe8f4c4a7f7b96517e9d1de76fb6da21  5f418b82636af454a53033b301931f71   \n",
       "474316  7398b88038d7406d8f979c46d605883b  58808ceda707dbd74f67543315e2bbbe   \n",
       "474317  9fe5241926a3ada64315a309df8eae7f  dac8182cfb4cd8ab672bc8672988c8e6   \n",
       "474318  e15f12d8cf57ff1cd01531f9ec66c52a  a2fd96603ddb3e335abb2cdb5f919686   \n",
       "474319  b4d98a057f5998cdf0c52a92685c518c  f84d339470bc1e5d1b96dac5ef184010   \n",
       "474320  f0d5b1120f66aea103180c1c34fb4edf  7c47688e175dcbfece0fb4247350fb4d   \n",
       "474321  74cd3cf1daec8726f02f298f44d02d4d  f68cd67b8712b38f574744bd00803cae   \n",
       "474322  54645798b36a5b51eec1311c9f45df2d  f3c46c6a5e026f5b7a2b5f2a0f0eeb45   \n",
       "474323  dfee810a25b6e5409ed7fbf36ba25d62  debbf065c8728601d13dd2d0bb4ec1d9   \n",
       "474324  3768e0750b5609af249d3d5ee7026aa2  524be7f4775826f485c4ad5e3e479b76   \n",
       "474325  420aeef4a2d0c2f2425474b94da87e30  2eb34a84ad15475ec2b9f27d1de850ff   \n",
       "474326  13474fb72dc91dd3606d00ec04dc58c9  4bdb2aaa8ac27cbbf6e41087c19112c9   \n",
       "474327  19d811c6c4b1ebc72da41e8cea28b5c1  51bcbd6d4e607481ade175eee2cf54e8   \n",
       "474328  9eb821aca24e418d709b6821c91cbbc0  6c0bb20ca37f0e582c35141aaaed84f3   \n",
       "474329  77086f57cf38036956db71881af2e3ad                               NaN   \n",
       "474330  2f280bd38a7b28ba12a43992e592dee7                               NaN   \n",
       "474331  5f7f559bd3f0d936b21c223122b4cdc5                               NaN   \n",
       "474332  b22eaacf4d3b77a1f52f0fc04404c9fa                               NaN   \n",
       "474333  aabd263de9fcf74eb0ab589e9442bfa4                               NaN   \n",
       "474334  9739e127b1453eaa2b6b4921a966196b  8f2859712c231709b6cfe544f47525b1   \n",
       "474335  cafb9e232939a35864828106a9eb29de  41b1420d7eca93cae483a3cc512a3c8e   \n",
       "474336  5cb3d303c27e40a1c299db008a12c05e  613ab06307b1a4e280f3790e8b70a465   \n",
       "474337  054490fd30b954d5d270fdccc4640d65  88c1497b0403e38f15c9d2776a7e3822   \n",
       "474338  361f6ea3eb5436ae5e0c16c12b9ec645  82d199a4dd2cfefb2f5e4b417e27b1d8   \n",
       "474339  3673198e2e01435aaef317a4e43cf1fc                               NaN   \n",
       "\n",
       "                                       2                                 3  \\\n",
       "0       ed180d7daf639d936f1aeae4f7fb482f  4725c39a5e5f4c188d382da3910b3f3f   \n",
       "1       191a180f0a262aff3267775c4fac8972  82cc4851f9e4faa4e54309f8bb73fd7c   \n",
       "2       7029e813bb3de8cc73a8615e2785070c  fff4e8465d1e12621bc361276b6217cf   \n",
       "3       21dc133ac68e4c07803d1c2f48988a83  4b7f6f4e2bf237b6cc58f57142bea5c0   \n",
       "4       26963cc76da2d8450d8f23fc357db987  fc34648599753c9e74ab238e9a4a07ad   \n",
       "5       970fc2d834c16362cfed666e4baad9f8  d4ec2125aff74eded207d2d915ef682f   \n",
       "6       2f206d28eb6d7daa6d058304c00782de  a5609739c6b5c2719a3752327c5e33a7   \n",
       "7       9cc0a783df3ea8ae3067ba2264d87fc3  74c1c25f4b283fa74a5514307b0d0278   \n",
       "8       c706cc35b05d84b224dec9d429c11de0  4725c39a5e5f4c188d382da3910b3f3f   \n",
       "9       cef9c611fab48a823b02d742c89207a9  87285a66236346350541b8815c5fae94   \n",
       "10      939beb5ac215c90832bd12a0eb0ab22d  d4ec2125aff74eded207d2d915ef682f   \n",
       "11      baf602f417da551b9a550097fd519676  d4ec2125aff74eded207d2d915ef682f   \n",
       "12      814ed63f451be929d956861cfe7c9a54  b05379ac3f9b7d99370d443cfd5dcc28   \n",
       "13      2a6c22435b8a3379a65176f9613458e4  4725c39a5e5f4c188d382da3910b3f3f   \n",
       "14      5c0a78dd9fc10c6d7bc5125fcd96d074  d4ec2125aff74eded207d2d915ef682f   \n",
       "15      4f3b9e0c9d4e97dcf58593f0297db90c  d4ec2125aff74eded207d2d915ef682f   \n",
       "16      905f4175dbd7df26fa8746cb599c84aa  d4ec2125aff74eded207d2d915ef682f   \n",
       "17      129439a00a9997a3d08675dec409e194  91690261186ae5bee8f83808ea1e4a01   \n",
       "18      7404c7703c202dffdb0c589c8bf5fb3f  929ec6c160e6f52c20a4217c7978f681   \n",
       "19      365e9ad6c8160b11ede6119b405dfbdd  4725c39a5e5f4c188d382da3910b3f3f   \n",
       "20      637bb09709d9b0482244da8614fc64dd  4725c39a5e5f4c188d382da3910b3f3f   \n",
       "21      fb62f30a558bc6b261762ea1a319eb9c  d4ec2125aff74eded207d2d915ef682f   \n",
       "22      5edd173847e0a0a892538e1b178dec56  364bf755f9b270f0f9141d1a61de43ee   \n",
       "23      09f6554911ed767ebb82e779492d6af7  d4ec2125aff74eded207d2d915ef682f   \n",
       "24      e5667a2864f0010132ada99a2cb1d32c  4725c39a5e5f4c188d382da3910b3f3f   \n",
       "25      e5667a2864f0010132ada99a2cb1d32c  4725c39a5e5f4c188d382da3910b3f3f   \n",
       "26      4a380881e07b7ff4ff3ff08185813963  4725c39a5e5f4c188d382da3910b3f3f   \n",
       "27      c0ab4c09399865a278c9f4e49be38a73  91690261186ae5bee8f83808ea1e4a01   \n",
       "28      4dac5b4abe47195d5aa3606ab7119b36  82cc4851f9e4faa4e54309f8bb73fd7c   \n",
       "29      4dac5b4abe47195d5aa3606ab7119b36  82cc4851f9e4faa4e54309f8bb73fd7c   \n",
       "...                                  ...                               ...   \n",
       "474310  1bfbde33da02a56584ce2743d6a83c62  82cc4851f9e4faa4e54309f8bb73fd7c   \n",
       "474311  9d76084631c56ee15489ead64cda5c0d  2920ece99323b4c111d6f9affc7ea034   \n",
       "474312  124132098a5ad77e1dd6198545f3244b  90c5a34f06ac86aee0fd70e2adce7d8a   \n",
       "474313  882dfe4277b7e1229a52881a09a8cc39  90c5a34f06ac86aee0fd70e2adce7d8a   \n",
       "474314  8ce8c4113a803f5c0fce59ec56e0ef38  b702e920dcd2765e624dc1ce3a770512   \n",
       "474315  a86a925544663cd154bdb74d90f5e239  82cc4851f9e4faa4e54309f8bb73fd7c   \n",
       "474316  4cdcdb27e0f6f96cdca8134903b600a6  82cc4851f9e4faa4e54309f8bb73fd7c   \n",
       "474317  4cdcdb27e0f6f96cdca8134903b600a6  82cc4851f9e4faa4e54309f8bb73fd7c   \n",
       "474318  216d5da267a6a4d0713c93e4056bd0b2  1afd7afbc81ecc1b13886a569d869e8a   \n",
       "474319  f37a7a6506f5d111843e42df066f7275  91690261186ae5bee8f83808ea1e4a01   \n",
       "474320  dbdff65374db8815eb6f9a8f8b08c732  1afd7afbc81ecc1b13886a569d869e8a   \n",
       "474321  f9a1c7a30f862351b1b4e3b2e8743ad8  4725c39a5e5f4c188d382da3910b3f3f   \n",
       "474322  56018323b921dd2c5444f98fb45509de  38d5ad2d22b61109fd8e7b43cd0e8901   \n",
       "474323  a7254c7b71384443de9ac09e46f893a0  2920ece99323b4c111d6f9affc7ea034   \n",
       "474324  a7254c7b71384443de9ac09e46f893a0  2920ece99323b4c111d6f9affc7ea034   \n",
       "474325  f0a0e4445e38e21f6582853c1daac50e  4725c39a5e5f4c188d382da3910b3f3f   \n",
       "474326  81058aeabcc159989f92d9636565c614  82cc4851f9e4faa4e54309f8bb73fd7c   \n",
       "474327  adf122e88a04aa07bd74bd9919f75d7a  4725c39a5e5f4c188d382da3910b3f3f   \n",
       "474328  360441ed412cd5340f4c1fdcaa9e7858  91690261186ae5bee8f83808ea1e4a01   \n",
       "474329  3be4102217bb864ee20d6f6cf0c78158  82cc4851f9e4faa4e54309f8bb73fd7c   \n",
       "474330  3be4102217bb864ee20d6f6cf0c78158  82cc4851f9e4faa4e54309f8bb73fd7c   \n",
       "474331  72f67a6bc1bc57b2e0c40ad466442b29  4725c39a5e5f4c188d382da3910b3f3f   \n",
       "474332  b32410a684d4e4668be247c16c7a731d  4725c39a5e5f4c188d382da3910b3f3f   \n",
       "474333  b32410a684d4e4668be247c16c7a731d  4725c39a5e5f4c188d382da3910b3f3f   \n",
       "474334  8624faec3daacfb8c25ab32fc24138ac  4725c39a5e5f4c188d382da3910b3f3f   \n",
       "474335  8624faec3daacfb8c25ab32fc24138ac  4725c39a5e5f4c188d382da3910b3f3f   \n",
       "474336  9a03b3b33c60b2fa437a76ac97a5412f  b05379ac3f9b7d99370d443cfd5dcc28   \n",
       "474337  3d3354e5cf6d6d7d5a62db0a78d69e77  2407d482f0ffa22a947068f2551fe62c   \n",
       "474338  0ae5e59b712786b3c3796da8c8716349  d05052b4bda7662a084f235e880f50fa   \n",
       "474339  d3efd8d49011077144a3c5913afc8878  2407d482f0ffa22a947068f2551fe62c   \n",
       "\n",
       "                                       4     5           6         7  \n",
       "0       3e12208dd0be281c92a6ab57d9a6fb32  24.0  2016-01-01  13:37:23  \n",
       "1       b05379ac3f9b7d99370d443cfd5dcc28   2.0  2016-01-01  09:47:54  \n",
       "2       fff4e8465d1e12621bc361276b6217cf   9.0  2016-01-01  18:24:02  \n",
       "3       4b7f6f4e2bf237b6cc58f57142bea5c0  11.0  2016-01-01  22:13:27  \n",
       "4       87285a66236346350541b8815c5fae94   4.0  2016-01-01  17:00:06  \n",
       "5       8bb37d24db1ad665e706c2655d9c4c72  44.0  2016-01-01  06:10:34  \n",
       "6       a5609739c6b5c2719a3752327c5e33a7   6.0  2016-01-01  17:34:33  \n",
       "7       74c1c25f4b283fa74a5514307b0d0278   3.0  2016-01-01  12:12:55  \n",
       "8       4725c39a5e5f4c188d382da3910b3f3f   5.0  2016-01-01  14:28:07  \n",
       "9       52a4e8aaa12f70020e889aed8fd5ddbc   5.0  2016-01-01  21:56:29  \n",
       "10      929ec6c160e6f52c20a4217c7978f681  19.0  2016-01-01  00:59:43  \n",
       "11      d4ec2125aff74eded207d2d915ef682f  11.0  2016-01-01  13:03:18  \n",
       "12      b26a240205c852804ff8758628c0a86a  32.0  2016-01-01  16:00:39  \n",
       "13      4725c39a5e5f4c188d382da3910b3f3f   7.0  2016-01-01  19:39:54  \n",
       "14      62afaf3288e236b389af9cfdc5206415  25.0  2016-01-01  00:25:44  \n",
       "15      929ec6c160e6f52c20a4217c7978f681   8.0  2016-01-01  17:08:22  \n",
       "16      d4ec2125aff74eded207d2d915ef682f  10.0  2016-01-01  13:30:20  \n",
       "17      91690261186ae5bee8f83808ea1e4a01   7.0  2016-01-01  21:01:03  \n",
       "18      d4ec2125aff74eded207d2d915ef682f   8.0  2016-01-01  04:54:30  \n",
       "19      4725c39a5e5f4c188d382da3910b3f3f   9.0  2016-01-01  20:51:46  \n",
       "20      91690261186ae5bee8f83808ea1e4a01  43.3  2016-01-01  19:51:58  \n",
       "21      d4ec2125aff74eded207d2d915ef682f  15.0  2016-01-01  16:16:05  \n",
       "22      90c5a34f06ac86aee0fd70e2adce7d8a   6.0  2016-01-01  00:12:39  \n",
       "23      ed8eb1876d270f25e29fe4339ad41524  19.0  2016-01-01  07:13:49  \n",
       "24      d4ec2125aff74eded207d2d915ef682f  23.0  2016-01-01  11:38:52  \n",
       "25      d4ec2125aff74eded207d2d915ef682f  21.4  2016-01-01  11:38:52  \n",
       "26      4725c39a5e5f4c188d382da3910b3f3f  12.0  2016-01-01  09:13:55  \n",
       "27      2407d482f0ffa22a947068f2551fe62c  13.0  2016-01-01  15:25:58  \n",
       "28      929ec6c160e6f52c20a4217c7978f681   9.0  2016-01-01  12:13:57  \n",
       "29      929ec6c160e6f52c20a4217c7978f681   9.0  2016-01-01  12:13:57  \n",
       "...                                  ...   ...         ...       ...  \n",
       "474310  82cc4851f9e4faa4e54309f8bb73fd7c  12.0  2016-01-21  17:02:21  \n",
       "474311  d4ec2125aff74eded207d2d915ef682f   7.7  2016-01-21  14:53:39  \n",
       "474312  90c5a34f06ac86aee0fd70e2adce7d8a   9.6  2016-01-21  08:08:21  \n",
       "474313  90c5a34f06ac86aee0fd70e2adce7d8a  11.6  2016-01-21  16:07:31  \n",
       "474314  1c7245a5224902fb3d4feca21b7b5808  23.0  2016-01-21  14:03:33  \n",
       "474315  82cc4851f9e4faa4e54309f8bb73fd7c  31.0  2016-01-21  09:34:52  \n",
       "474316  929ec6c160e6f52c20a4217c7978f681   7.0  2016-01-21  09:00:47  \n",
       "474317  929ec6c160e6f52c20a4217c7978f681   6.0  2016-01-21  09:00:47  \n",
       "474318  2407d482f0ffa22a947068f2551fe62c  19.0  2016-01-21  10:40:06  \n",
       "474319  91690261186ae5bee8f83808ea1e4a01  15.0  2016-01-21  08:02:15  \n",
       "474320  4396399c0f387a843c4de6052b51a69c  11.0  2016-01-21  18:25:27  \n",
       "474321  4725c39a5e5f4c188d382da3910b3f3f   9.0  2016-01-21  22:52:42  \n",
       "474322  d4ec2125aff74eded207d2d915ef682f  29.0  2016-01-21  16:34:07  \n",
       "474323  9868717243779473e6699d8a7bfce66f  37.5  2016-01-21  13:37:45  \n",
       "474324  9868717243779473e6699d8a7bfce66f  37.5  2016-01-21  13:37:45  \n",
       "474325  82cc4851f9e4faa4e54309f8bb73fd7c  17.6  2016-01-21  20:41:39  \n",
       "474326  929ec6c160e6f52c20a4217c7978f681   8.0  2016-01-21  15:59:50  \n",
       "474327  905ac1f4c0f46a8d31ac4dc68cef54ca  11.0  2016-01-21  19:58:29  \n",
       "474328  1afd7afbc81ecc1b13886a569d869e8a   8.9  2016-01-21  13:44:11  \n",
       "474329  d1ab2cc538d518758a1a82b1787592d4  19.0  2016-01-21  17:33:27  \n",
       "474330  d1ab2cc538d518758a1a82b1787592d4  19.5  2016-01-21  17:33:27  \n",
       "474331  d4ec2125aff74eded207d2d915ef682f  18.0  2016-01-21  08:00:09  \n",
       "474332  929ec6c160e6f52c20a4217c7978f681  17.8  2016-01-21  07:32:40  \n",
       "474333  929ec6c160e6f52c20a4217c7978f681  17.8  2016-01-21  07:32:40  \n",
       "474334  929ec6c160e6f52c20a4217c7978f681  15.8  2016-01-21  20:14:37  \n",
       "474335  929ec6c160e6f52c20a4217c7978f681  13.0  2016-01-21  20:14:37  \n",
       "474336  38d5ad2d22b61109fd8e7b43cd0e8901  16.0  2016-01-21  18:32:09  \n",
       "474337  62afaf3288e236b389af9cfdc5206415  27.9  2016-01-21  18:11:38  \n",
       "474338  90c5a34f06ac86aee0fd70e2adce7d8a  11.0  2016-01-21  18:43:55  \n",
       "474339  62afaf3288e236b389af9cfdc5206415  18.9  2016-01-21  16:54:37  \n",
       "\n",
       "[8540614 rows x 8 columns]>"
      ]
     },
     "execution_count": 4,
     "metadata": {},
     "output_type": "execute_result"
    }
   ],
   "source": [
    "order_data.count"
   ]
  },
  {
   "cell_type": "code",
   "execution_count": 5,
   "metadata": {
    "collapsed": false
   },
   "outputs": [],
   "source": [
    "order_data[\"time_slice\"] = order_data[7].apply(lambda x: (int(x.split(':')[0]) * 60 * 60 + int(x.split(':')[1]) * 60 + int(x.split(':')[2])) / 600)"
   ]
  },
  {
   "cell_type": "code",
   "execution_count": 6,
   "metadata": {
    "collapsed": false
   },
   "outputs": [
    {
     "data": {
      "text/plain": [
       "143"
      ]
     },
     "execution_count": 6,
     "metadata": {},
     "output_type": "execute_result"
    }
   ],
   "source": [
    "order_data['time_slice'].max()"
   ]
  },
  {
   "cell_type": "code",
   "execution_count": 7,
   "metadata": {
    "collapsed": false
   },
   "outputs": [],
   "source": [
    "region_mapping = {}\n",
    "for item in cluster_map.values:\n",
    "    region_mapping[item[0]] = item[1]"
   ]
  },
  {
   "cell_type": "code",
   "execution_count": 8,
   "metadata": {
    "collapsed": false
   },
   "outputs": [],
   "source": [
    "order_data[\"region_id\"] = order_data[3].apply(lambda x: int(region_mapping[x]))"
   ]
  },
  {
   "cell_type": "code",
   "execution_count": 9,
   "metadata": {
    "collapsed": true
   },
   "outputs": [],
   "source": [
    "order_data[\"date\"] = order_data[6].apply(lambda x: int(x.split('-')[2]))"
   ]
  },
  {
   "cell_type": "code",
   "execution_count": 10,
   "metadata": {
    "collapsed": false
   },
   "outputs": [
    {
     "name": "stdout",
     "output_type": "stream",
     "text": [
      "0\n",
      "143\n",
      "1\n",
      "66\n"
     ]
    }
   ],
   "source": [
    "print order_data['time_slice'].min()\n",
    "print order_data['time_slice'].max()\n",
    "print order_data['region_id'].min()\n",
    "print order_data['region_id'].max()"
   ]
  },
  {
   "cell_type": "code",
   "execution_count": 11,
   "metadata": {
    "collapsed": true
   },
   "outputs": [],
   "source": [
    "demand_count = {}\n",
    "supply_count = {}\n",
    "for i in range(1, 22):\n",
    "    for j in range(0, 144):\n",
    "        demand_count[(i - 1) * 144 + j] = {}\n",
    "        supply_count[(i - 1) * 144 + j] = {}\n",
    "        for z in range(1, 67):\n",
    "            demand_count[(i - 1) * 144 + j][z] = 0\n",
    "            supply_count[(i - 1) * 144 + j][z] = 0"
   ]
  },
  {
   "cell_type": "code",
   "execution_count": 12,
   "metadata": {
    "collapsed": false
   },
   "outputs": [
    {
     "data": {
      "text/plain": [
       "Index([0, 1, 2, 3, 4, 5, 6, 7, u'time_slice', u'region_id', u'date'], dtype='object')"
      ]
     },
     "execution_count": 12,
     "metadata": {},
     "output_type": "execute_result"
    }
   ],
   "source": [
    "order_data.columns"
   ]
  },
  {
   "cell_type": "code",
   "execution_count": 56,
   "metadata": {
    "collapsed": false
   },
   "outputs": [],
   "source": [
    "for item in order_data.values:\n",
    "    demand_count[(item[10] - 1) * 144 + item[8]][item[9]] += 1\n",
    "    if pd.isnull(item[1]) == False:\n",
    "        supply_count[(item[10] - 1) * 144 + item[8]][item[9]] += 1"
   ]
  },
  {
   "cell_type": "code",
   "execution_count": 58,
   "metadata": {
    "collapsed": false
   },
   "outputs": [
    {
     "data": {
      "text/plain": [
       "True"
      ]
     },
     "execution_count": 58,
     "metadata": {},
     "output_type": "execute_result"
    }
   ],
   "source": [
    "item = order_data.values[4]\n",
    "pd.isnull(item[1])"
   ]
  },
  {
   "cell_type": "code",
   "execution_count": 59,
   "metadata": {
    "collapsed": false
   },
   "outputs": [],
   "source": [
    "training_data = pd.DataFrame(columns = [\"region_id\", \"time_slice_id\", \"gap_1\", \"gap_2\", \"gap_3\", \"gap\"])"
   ]
  },
  {
   "cell_type": "code",
   "execution_count": 60,
   "metadata": {
    "collapsed": false
   },
   "outputs": [
    {
     "data": {
      "text/html": [
       "<div>\n",
       "<table border=\"1\" class=\"dataframe\">\n",
       "  <thead>\n",
       "    <tr style=\"text-align: right;\">\n",
       "      <th></th>\n",
       "      <th>region_id</th>\n",
       "      <th>time_slice_id</th>\n",
       "      <th>gap_1</th>\n",
       "      <th>gap_2</th>\n",
       "      <th>gap_3</th>\n",
       "      <th>gap</th>\n",
       "    </tr>\n",
       "  </thead>\n",
       "  <tbody>\n",
       "  </tbody>\n",
       "</table>\n",
       "</div>"
      ],
      "text/plain": [
       "Empty DataFrame\n",
       "Columns: [region_id, time_slice_id, gap_1, gap_2, gap_3, gap]\n",
       "Index: []"
      ]
     },
     "execution_count": 60,
     "metadata": {},
     "output_type": "execute_result"
    }
   ],
   "source": [
    "training_data"
   ]
  },
  {
   "cell_type": "code",
   "execution_count": 61,
   "metadata": {
    "collapsed": false
   },
   "outputs": [],
   "source": [
    "for i in range(1, 67):\n",
    "    for j in range(4, 144 * 21):\n",
    "        tsi = j % 144\n",
    "        training_data = training_data.append({\"region_id\" : i, \"time_slice_id\" : tsi, \"gap_1\" : abs(demand_count[j - 1][i] - supply_count[j - 1][i]), \"gap_2\" : abs(demand_count[j - 2][i] - supply_count[j - 2][i]), \"gap_3\" : abs(demand_count[j - 3][i] - supply_count[j - 3][i]), \"gap\" : abs(demand_count[j][i] - supply_count[j][i])}, ignore_index=True)\n",
    "        "
   ]
  },
  {
   "cell_type": "code",
   "execution_count": 71,
   "metadata": {
    "collapsed": false
   },
   "outputs": [],
   "source": [
    "training_data = training_data.astype(float)"
   ]
  },
  {
   "cell_type": "code",
   "execution_count": 78,
   "metadata": {
    "collapsed": false
   },
   "outputs": [],
   "source": [
    "from sklearn.ensemble import RandomForestRegressor\n",
    "target = training_data[\"gap\"]\n",
    "train = training_data.drop(\"gap\", 1)"
   ]
  },
  {
   "cell_type": "code",
   "execution_count": 80,
   "metadata": {
    "collapsed": false
   },
   "outputs": [
    {
     "data": {
      "text/plain": [
       "RandomForestRegressor(bootstrap=True, criterion='mse', max_depth=None,\n",
       "           max_features='auto', max_leaf_nodes=None, min_samples_leaf=1,\n",
       "           min_samples_split=2, min_weight_fraction_leaf=0.0,\n",
       "           n_estimators=10, n_jobs=1, oob_score=False, random_state=None,\n",
       "           verbose=0, warm_start=False)"
      ]
     },
     "execution_count": 80,
     "metadata": {},
     "output_type": "execute_result"
    }
   ],
   "source": [
    "rfc = RandomForestRegressor()\n",
    "rfc.fit(train, target)"
   ]
  },
  {
   "cell_type": "code",
   "execution_count": 83,
   "metadata": {
    "collapsed": true
   },
   "outputs": [],
   "source": [
    "test = pd.read_csv(\"test.csv\", header=None)"
   ]
  },
  {
   "cell_type": "code",
   "execution_count": 85,
   "metadata": {
    "collapsed": false
   },
   "outputs": [],
   "source": [
    "result = test.copy()"
   ]
  },
  {
   "cell_type": "code",
   "execution_count": 86,
   "metadata": {
    "collapsed": false
   },
   "outputs": [
    {
     "data": {
      "text/html": [
       "<div>\n",
       "<table border=\"1\" class=\"dataframe\">\n",
       "  <thead>\n",
       "    <tr style=\"text-align: right;\">\n",
       "      <th></th>\n",
       "      <th>0</th>\n",
       "      <th>1</th>\n",
       "      <th>2</th>\n",
       "    </tr>\n",
       "  </thead>\n",
       "  <tbody>\n",
       "    <tr>\n",
       "      <th>0</th>\n",
       "      <td>1</td>\n",
       "      <td>2016-01-22-46</td>\n",
       "      <td>0</td>\n",
       "    </tr>\n",
       "    <tr>\n",
       "      <th>1</th>\n",
       "      <td>2</td>\n",
       "      <td>2016-01-22-46</td>\n",
       "      <td>0</td>\n",
       "    </tr>\n",
       "    <tr>\n",
       "      <th>2</th>\n",
       "      <td>3</td>\n",
       "      <td>2016-01-22-46</td>\n",
       "      <td>0</td>\n",
       "    </tr>\n",
       "    <tr>\n",
       "      <th>3</th>\n",
       "      <td>4</td>\n",
       "      <td>2016-01-22-46</td>\n",
       "      <td>0</td>\n",
       "    </tr>\n",
       "    <tr>\n",
       "      <th>4</th>\n",
       "      <td>5</td>\n",
       "      <td>2016-01-22-46</td>\n",
       "      <td>0</td>\n",
       "    </tr>\n",
       "  </tbody>\n",
       "</table>\n",
       "</div>"
      ],
      "text/plain": [
       "   0              1  2\n",
       "0  1  2016-01-22-46  0\n",
       "1  2  2016-01-22-46  0\n",
       "2  3  2016-01-22-46  0\n",
       "3  4  2016-01-22-46  0\n",
       "4  5  2016-01-22-46  0"
      ]
     },
     "execution_count": 86,
     "metadata": {},
     "output_type": "execute_result"
    }
   ],
   "source": [
    "result.head()"
   ]
  },
  {
   "cell_type": "code",
   "execution_count": 87,
   "metadata": {
    "collapsed": true
   },
   "outputs": [],
   "source": [
    "test_order_data = pd.read_csv(\"./test_set_1/order_data/order_data_2016-01-22_test\", header=None, delim_whitespace=True)\n",
    "for i in [24, 26, 28, 30]:\n",
    "    test_order_data = test_order_data.append(pd.read_csv(\"./test_set_1/order_data/order_data_2016-01-%02d_test\" % i, header=None, delim_whitespace=True))"
   ]
  },
  {
   "cell_type": "code",
   "execution_count": 88,
   "metadata": {
    "collapsed": false
   },
   "outputs": [
    {
     "data": {
      "text/html": [
       "<div>\n",
       "<table border=\"1\" class=\"dataframe\">\n",
       "  <thead>\n",
       "    <tr style=\"text-align: right;\">\n",
       "      <th></th>\n",
       "      <th>0</th>\n",
       "      <th>1</th>\n",
       "      <th>2</th>\n",
       "      <th>3</th>\n",
       "      <th>4</th>\n",
       "      <th>5</th>\n",
       "      <th>6</th>\n",
       "      <th>7</th>\n",
       "    </tr>\n",
       "  </thead>\n",
       "  <tbody>\n",
       "    <tr>\n",
       "      <th>0</th>\n",
       "      <td>e37f842c2a37de68e16466a3c56b916b</td>\n",
       "      <td>NaN</td>\n",
       "      <td>5903295e07afb893e1a0f7073965515d</td>\n",
       "      <td>b05379ac3f9b7d99370d443cfd5dcc28</td>\n",
       "      <td>82cc4851f9e4faa4e54309f8bb73fd7c</td>\n",
       "      <td>7.0</td>\n",
       "      <td>2016-01-22</td>\n",
       "      <td>17:19:43</td>\n",
       "    </tr>\n",
       "    <tr>\n",
       "      <th>1</th>\n",
       "      <td>62588e55ff8892ba38a0bbe5678be272</td>\n",
       "      <td>53919c82b12bd39b12d77d4d8db1dda1</td>\n",
       "      <td>5903295e07afb893e1a0f7073965515d</td>\n",
       "      <td>b05379ac3f9b7d99370d443cfd5dcc28</td>\n",
       "      <td>82cc4851f9e4faa4e54309f8bb73fd7c</td>\n",
       "      <td>12.0</td>\n",
       "      <td>2016-01-22</td>\n",
       "      <td>17:19:43</td>\n",
       "    </tr>\n",
       "    <tr>\n",
       "      <th>2</th>\n",
       "      <td>693194e4d57cdd500e793c0c1e4f7a93</td>\n",
       "      <td>19f5ba02d33855688b727e39c98b2939</td>\n",
       "      <td>dbea2d56b9fcacf8b18c40a4f34fbbf2</td>\n",
       "      <td>62afaf3288e236b389af9cfdc5206415</td>\n",
       "      <td>62afaf3288e236b389af9cfdc5206415</td>\n",
       "      <td>18.0</td>\n",
       "      <td>2016-01-22</td>\n",
       "      <td>11:00:05</td>\n",
       "    </tr>\n",
       "    <tr>\n",
       "      <th>3</th>\n",
       "      <td>3a0c651d2558d9083a66fc179e3ba81c</td>\n",
       "      <td>NaN</td>\n",
       "      <td>4b9957e8fb4d8cf981560e2a512aa598</td>\n",
       "      <td>d4ec2125aff74eded207d2d915ef682f</td>\n",
       "      <td>d1ab2cc538d518758a1a82b1787592d4</td>\n",
       "      <td>36.0</td>\n",
       "      <td>2016-01-22</td>\n",
       "      <td>17:00:42</td>\n",
       "    </tr>\n",
       "    <tr>\n",
       "      <th>4</th>\n",
       "      <td>68b7cec210c7f875b79ce32dab7195ea</td>\n",
       "      <td>NaN</td>\n",
       "      <td>4b9957e8fb4d8cf981560e2a512aa598</td>\n",
       "      <td>d4ec2125aff74eded207d2d915ef682f</td>\n",
       "      <td>d1ab2cc538d518758a1a82b1787592d4</td>\n",
       "      <td>36.0</td>\n",
       "      <td>2016-01-22</td>\n",
       "      <td>17:00:42</td>\n",
       "    </tr>\n",
       "  </tbody>\n",
       "</table>\n",
       "</div>"
      ],
      "text/plain": [
       "                                  0                                 1  \\\n",
       "0  e37f842c2a37de68e16466a3c56b916b                               NaN   \n",
       "1  62588e55ff8892ba38a0bbe5678be272  53919c82b12bd39b12d77d4d8db1dda1   \n",
       "2  693194e4d57cdd500e793c0c1e4f7a93  19f5ba02d33855688b727e39c98b2939   \n",
       "3  3a0c651d2558d9083a66fc179e3ba81c                               NaN   \n",
       "4  68b7cec210c7f875b79ce32dab7195ea                               NaN   \n",
       "\n",
       "                                  2                                 3  \\\n",
       "0  5903295e07afb893e1a0f7073965515d  b05379ac3f9b7d99370d443cfd5dcc28   \n",
       "1  5903295e07afb893e1a0f7073965515d  b05379ac3f9b7d99370d443cfd5dcc28   \n",
       "2  dbea2d56b9fcacf8b18c40a4f34fbbf2  62afaf3288e236b389af9cfdc5206415   \n",
       "3  4b9957e8fb4d8cf981560e2a512aa598  d4ec2125aff74eded207d2d915ef682f   \n",
       "4  4b9957e8fb4d8cf981560e2a512aa598  d4ec2125aff74eded207d2d915ef682f   \n",
       "\n",
       "                                  4     5           6         7  \n",
       "0  82cc4851f9e4faa4e54309f8bb73fd7c   7.0  2016-01-22  17:19:43  \n",
       "1  82cc4851f9e4faa4e54309f8bb73fd7c  12.0  2016-01-22  17:19:43  \n",
       "2  62afaf3288e236b389af9cfdc5206415  18.0  2016-01-22  11:00:05  \n",
       "3  d1ab2cc538d518758a1a82b1787592d4  36.0  2016-01-22  17:00:42  \n",
       "4  d1ab2cc538d518758a1a82b1787592d4  36.0  2016-01-22  17:00:42  "
      ]
     },
     "execution_count": 88,
     "metadata": {},
     "output_type": "execute_result"
    }
   ],
   "source": [
    "test_order_data.head()"
   ]
  },
  {
   "cell_type": "code",
   "execution_count": null,
   "metadata": {
    "collapsed": true
   },
   "outputs": [],
   "source": []
  }
 ],
 "metadata": {
  "kernelspec": {
   "display_name": "Python 2",
   "language": "python",
   "name": "python2"
  },
  "language_info": {
   "codemirror_mode": {
    "name": "ipython",
    "version": 2
   },
   "file_extension": ".py",
   "mimetype": "text/x-python",
   "name": "python",
   "nbconvert_exporter": "python",
   "pygments_lexer": "ipython2",
   "version": "2.7.11"
  }
 },
 "nbformat": 4,
 "nbformat_minor": 0
}
